{
 "cells": [
  {
   "cell_type": "markdown",
   "metadata": {},
   "source": [
    "### Workshop Dataset"
   ]
  },
  {
   "cell_type": "markdown",
   "metadata": {},
   "source": [
    "For this workshop, we will be using a subset of a publicly available dataset, ds000030, from [openneuro.org](https://openneuro.org/datasets/ds000030). The dataset is structured according to the Brain Imaging Data Structure ([BIDS](https://bids-specification.readthedocs.io/en/stable/)). BIDS is a simple and intuitive way to organize and describe your neuroimaging and behavioural data. Neuroimaging experiments result in complicated data that can be arranged in several different ways. BIDS tackles this problem by suggesting a new standard (based on consensus from multiple researchers across the world) for the arrangement of neuroimaging datasets. Using the same organizational standard for *all* of your studies will also allow you to easily reuse your scripts and share data and code with other researchers."
   ]
  },
  {
   "cell_type": "markdown",
   "metadata": {},
   "source": [
    "Below is a tree diagram showing the folder structure of single MR session within ds000030. This was obtained by using the bash command `tree`.  \n",
    "`!tree ../data/ds000030`\n",
    "\n",
    "```\n",
    "ds000030\n",
    "├── CHANGES\n",
    "├── dataset_description.json\n",
    "├── derivatives\n",
    "│   └── fmriprep\n",
    "├── participants.tsv\n",
    "├── README\n",
    "├── sub-10159\n",
    "│   ├── anat\n",
    "│   │   ├── sub-10159_T1w.json\n",
    "│   │   └── sub-10159_T1w.nii.gz\n",
    "│   └── func\n",
    "│       ├── sub-10159_task-rest_bold.json\n",
    "│       └── sub-10159_task-rest_bold.nii.gz\n",
    "└── task-rest_bold.json\n",
    "```"
   ]
  },
  {
   "cell_type": "markdown",
   "metadata": {},
   "source": [
    "The `participants.tsv` file is meant to describe some demographic information on each participant within your study (eg. age, handedness, sex, etc.) Let's take a look at the `participants.tsv` file to see what's been included in this dataset."
   ]
  },
  {
   "cell_type": "markdown",
   "metadata": {},
   "source": [
    "### Downloading Data"
   ]
  },
  {
   "cell_type": "markdown",
   "metadata": {},
   "source": [
    "We've already randomly sampled 10 CONTROL and 10 SCHZ participants and placed the participant list in the `../download_list` text file. Let's download that data now."
   ]
  },
  {
   "cell_type": "code",
   "execution_count": 1,
   "metadata": {
    "scrolled": true
   },
   "outputs": [
    {
     "name": "stdout",
     "output_type": "stream",
     "text": [
      "download: s3://openneuro/ds000030/ds000030_R1.0.5/uncompressed/sub-10159/anat/sub-10159_T1w.json to ../data/ds000030/sub-10159/anat/sub-10159_T1w.json\n",
      "download: s3://openneuro/ds000030/ds000030_R1.0.5/uncompressed/sub-10159/anat/sub-10159_T1w.nii.gz to ../data/ds000030/sub-10159/anat/sub-10159_T1w.nii.gz\n",
      "download: s3://openneuro/ds000030/ds000030_R1.0.5/uncompressed/sub-10159/func/sub-10159_task-rest_bold.json to ../data/ds000030/sub-10159/func/sub-10159_task-rest_bold.json\n",
      "download: s3://openneuro/ds000030/ds000030_R1.0.5/uncompressed/sub-10159/func/sub-10159_task-rest_bold.nii.gz to ../data/ds000030/sub-10159/func/sub-10159_task-rest_bold.nii.gz\n"
     ]
    }
   ],
   "source": [
    "# download T1w scans\n",
    "!aws s3 sync --no-sign-request \\\n",
    "  s3://openneuro/ds000030/ds000030_R1.0.5/uncompressed/sub-10159/anat \\\n",
    "  ../data/ds000030/sub-10159/anat\n",
    "\n",
    "# download resting state fMRI scans\n",
    "!aws s3 sync --no-sign-request \\\n",
    "  s3://openneuro/ds000030/ds000030_R1.0.5/uncompressed/sub-10159/func \\\n",
    "  ../data/ds000030/sub-10159/func \\\n",
    "  --exclude '*' \\\n",
    "  --include '*task-rest_bold*'"
   ]
  },
  {
   "cell_type": "markdown",
   "metadata": {},
   "source": [
    "### Querying a BIDS Dataset"
   ]
  },
  {
   "cell_type": "markdown",
   "metadata": {},
   "source": [
    "[pybids](https://bids-standard.github.io/pybids/) is a Python API for querying, summarizing and manipulating the BIDS folder structure. A more detailed tutorial on using pybids can be found [here](https://github.com/bids-standard/pybids/blob/master/examples/pybids_tutorial.ipynb)."
   ]
  },
  {
   "cell_type": "code",
   "execution_count": 1,
   "metadata": {},
   "outputs": [],
   "source": [
    "from bids.layout import BIDSLayout"
   ]
  },
  {
   "cell_type": "code",
   "execution_count": 2,
   "metadata": {},
   "outputs": [],
   "source": [
    "layout = BIDSLayout('../data/ds000030')"
   ]
  },
  {
   "cell_type": "markdown",
   "metadata": {},
   "source": [
    "The pybids layout object lets you query your BIDS dataset according to a number of parameters by using a `get_*()` method.  \n",
    "We can get a list of the subjects we've downloaded from the dataset."
   ]
  },
  {
   "cell_type": "code",
   "execution_count": 3,
   "metadata": {},
   "outputs": [
    {
     "data": {
      "text/plain": [
       "['10159']"
      ]
     },
     "execution_count": 3,
     "metadata": {},
     "output_type": "execute_result"
    }
   ],
   "source": [
    "layout.get_subjects()"
   ]
  },
  {
   "cell_type": "markdown",
   "metadata": {},
   "source": [
    "To get a list of all of the files, just use `get()`. "
   ]
  },
  {
   "cell_type": "code",
   "execution_count": 4,
   "metadata": {},
   "outputs": [
    {
     "data": {
      "text/plain": [
       "[<BIDSFile filename='/Users/Michael/projects/teaching/fmriprep_workshop/data/ds000030/CHANGES'>,\n",
       " <BIDSFile filename='/Users/Michael/projects/teaching/fmriprep_workshop/data/ds000030/dataset_description.json'>,\n",
       " <BIDSDataFile filename='/Users/Michael/projects/teaching/fmriprep_workshop/data/ds000030/participants.tsv'>,\n",
       " <BIDSFile filename='/Users/Michael/projects/teaching/fmriprep_workshop/data/ds000030/README'>,\n",
       " <BIDSFile filename='/Users/Michael/projects/teaching/fmriprep_workshop/data/ds000030/sub-10159/anat/sub-10159_T1w.json'>,\n",
       " <BIDSImageFile filename='/Users/Michael/projects/teaching/fmriprep_workshop/data/ds000030/sub-10159/anat/sub-10159_T1w.nii.gz'>,\n",
       " <BIDSFile filename='/Users/Michael/projects/teaching/fmriprep_workshop/data/ds000030/sub-10159/func/sub-10159_task-bart_bold.json'>,\n",
       " <BIDSImageFile filename='/Users/Michael/projects/teaching/fmriprep_workshop/data/ds000030/sub-10159/func/sub-10159_task-bart_bold.nii.gz'>,\n",
       " <BIDSDataFile filename='/Users/Michael/projects/teaching/fmriprep_workshop/data/ds000030/sub-10159/func/sub-10159_task-bart_events.tsv'>,\n",
       " <BIDSFile filename='/Users/Michael/projects/teaching/fmriprep_workshop/data/ds000030/sub-10159/func/sub-10159_task-rest_bold.json'>,\n",
       " <BIDSImageFile filename='/Users/Michael/projects/teaching/fmriprep_workshop/data/ds000030/sub-10159/func/sub-10159_task-rest_bold.nii.gz'>,\n",
       " <BIDSFile filename='/Users/Michael/projects/teaching/fmriprep_workshop/data/ds000030/sub-10159/func/sub-10159_task-scap_bold.json'>,\n",
       " <BIDSImageFile filename='/Users/Michael/projects/teaching/fmriprep_workshop/data/ds000030/sub-10159/func/sub-10159_task-scap_bold.nii.gz'>,\n",
       " <BIDSDataFile filename='/Users/Michael/projects/teaching/fmriprep_workshop/data/ds000030/sub-10159/func/sub-10159_task-scap_events.tsv'>,\n",
       " <BIDSFile filename='/Users/Michael/projects/teaching/fmriprep_workshop/data/ds000030/sub-10159/func/sub-10159_task-stopsignal_bold.json'>,\n",
       " <BIDSImageFile filename='/Users/Michael/projects/teaching/fmriprep_workshop/data/ds000030/sub-10159/func/sub-10159_task-stopsignal_bold.nii.gz'>,\n",
       " <BIDSDataFile filename='/Users/Michael/projects/teaching/fmriprep_workshop/data/ds000030/sub-10159/func/sub-10159_task-stopsignal_events.tsv'>,\n",
       " <BIDSFile filename='/Users/Michael/projects/teaching/fmriprep_workshop/data/ds000030/sub-10159/func/sub-10159_task-taskswitch_bold.json'>,\n",
       " <BIDSImageFile filename='/Users/Michael/projects/teaching/fmriprep_workshop/data/ds000030/sub-10159/func/sub-10159_task-taskswitch_bold.nii.gz'>,\n",
       " <BIDSDataFile filename='/Users/Michael/projects/teaching/fmriprep_workshop/data/ds000030/sub-10159/func/sub-10159_task-taskswitch_events.tsv'>,\n",
       " <BIDSFile filename='/Users/Michael/projects/teaching/fmriprep_workshop/data/ds000030/task-bart_bold.json'>,\n",
       " <BIDSFile filename='/Users/Michael/projects/teaching/fmriprep_workshop/data/ds000030/task-rest_bold.json'>,\n",
       " <BIDSFile filename='/Users/Michael/projects/teaching/fmriprep_workshop/data/ds000030/task-scap_bold.json'>,\n",
       " <BIDSFile filename='/Users/Michael/projects/teaching/fmriprep_workshop/data/ds000030/task-stopsignal_bold.json'>,\n",
       " <BIDSFile filename='/Users/Michael/projects/teaching/fmriprep_workshop/data/ds000030/task-taskswitch_bold.json'>]"
      ]
     },
     "execution_count": 4,
     "metadata": {},
     "output_type": "execute_result"
    }
   ],
   "source": [
    "layout.get()"
   ]
  },
  {
   "cell_type": "markdown",
   "metadata": {},
   "source": [
    "There are many arguments we can use to filter down this list. Any BIDS-defined keyword can be passed on as a constraint. In `pybids`, these keywords are known as **entities**. For a complete list of possibilities:"
   ]
  },
  {
   "cell_type": "code",
   "execution_count": 5,
   "metadata": {},
   "outputs": [
    {
     "data": {
      "text/plain": [
       "{'subject': <bids.layout.models.Entity at 0x10ec2aac8>,\n",
       " 'session': <bids.layout.models.Entity at 0x10eb96a90>,\n",
       " 'task': <bids.layout.models.Entity at 0x10ec2a550>,\n",
       " 'acquisition': <bids.layout.models.Entity at 0x10ec2a5c0>,\n",
       " 'ce': <bids.layout.models.Entity at 0x10ebcd898>,\n",
       " 'reconstruction': <bids.layout.models.Entity at 0x10ec5d7f0>,\n",
       " 'dir': <bids.layout.models.Entity at 0x10ec5dba8>,\n",
       " 'run': <bids.layout.models.Entity at 0x10ec5de10>,\n",
       " 'proc': <bids.layout.models.Entity at 0x10ec5dcf8>,\n",
       " 'modality': <bids.layout.models.Entity at 0x10ec5dc50>,\n",
       " 'echo': <bids.layout.models.Entity at 0x10ec5df60>,\n",
       " 'recording': <bids.layout.models.Entity at 0x10ec5db38>,\n",
       " 'suffix': <bids.layout.models.Entity at 0x10ec5d780>,\n",
       " 'scans': <bids.layout.models.Entity at 0x10ec5d400>,\n",
       " 'fmap': <bids.layout.models.Entity at 0x10eb96ac8>,\n",
       " 'datatype': <bids.layout.models.Entity at 0x10ec5d630>,\n",
       " 'extension': <bids.layout.models.Entity at 0x10ec67198>,\n",
       " 'ImageType': <bids.layout.models.Entity at 0x10ecd64e0>,\n",
       " 'ManufacturerModelName': <bids.layout.models.Entity at 0x10ecd6da0>,\n",
       " 'ScanningSequence': <bids.layout.models.Entity at 0x10ecd6f60>,\n",
       " 'SequenceVariant': <bids.layout.models.Entity at 0x10ecd6518>,\n",
       " 'ScanOptions': <bids.layout.models.Entity at 0x10ecd6748>,\n",
       " 'MRAcquisitionType': <bids.layout.models.Entity at 0x10ecd65c0>,\n",
       " 'SequenceName': <bids.layout.models.Entity at 0x10ecd66d8>,\n",
       " 'RepetitionTime': <bids.layout.models.Entity at 0x10ecd61d0>,\n",
       " 'EchoTime': <bids.layout.models.Entity at 0x10ecd6080>,\n",
       " 'InversionTime': <bids.layout.models.Entity at 0x10ecd68d0>,\n",
       " 'NumberOfAverages': <bids.layout.models.Entity at 0x10ecd6470>,\n",
       " 'ImagingFrequency': <bids.layout.models.Entity at 0x10ecd63c8>,\n",
       " 'MagneticFieldStrength': <bids.layout.models.Entity at 0x10ecdb780>,\n",
       " 'NumberOfPhaseEncodingSteps': <bids.layout.models.Entity at 0x10ecdb7b8>,\n",
       " 'EchoTrainLength': <bids.layout.models.Entity at 0x10ecdb898>,\n",
       " 'PercentSampling': <bids.layout.models.Entity at 0x10ecdb940>,\n",
       " 'PercentPhaseFieldOfView': <bids.layout.models.Entity at 0x10ecdb4e0>,\n",
       " 'PixelBandwidth': <bids.layout.models.Entity at 0x10ecdb6d8>,\n",
       " 'AccelerationFactorPE': <bids.layout.models.Entity at 0x10ecd4630>,\n",
       " 'AccelNumReferenceLines': <bids.layout.models.Entity at 0x10ecd4828>,\n",
       " 'TotalScanTimeSec': <bids.layout.models.Entity at 0x10ecd49b0>,\n",
       " 'ReceiveCoilName': <bids.layout.models.Entity at 0x10ecd4198>,\n",
       " 'DeviceSerialNumber': <bids.layout.models.Entity at 0x10ecd4dd8>,\n",
       " 'SoftwareVersions': <bids.layout.models.Entity at 0x10ecd4ac8>,\n",
       " 'ProtocolName': <bids.layout.models.Entity at 0x10ecd4cf8>,\n",
       " 'TransmitCoilName': <bids.layout.models.Entity at 0x10ecd4668>,\n",
       " 'AcquisitionMatrix': <bids.layout.models.Entity at 0x10ecd4898>,\n",
       " 'InPlanePhaseEncodingDirection': <bids.layout.models.Entity at 0x10ecd4278>,\n",
       " 'FlipAngle': <bids.layout.models.Entity at 0x10ecd44a8>,\n",
       " 'VariableFlipAngleFlag': <bids.layout.models.Entity at 0x10ecd4550>,\n",
       " 'PatientPosition': <bids.layout.models.Entity at 0x10ecd4390>,\n",
       " 'PhaseEncodingDirection': <bids.layout.models.Entity at 0x10ecd4be0>,\n",
       " 'TaskName': <bids.layout.models.Entity at 0x10ecd4ef0>,\n",
       " 'TaskFullName': <bids.layout.models.Entity at 0x10ecd4d30>,\n",
       " 'Instructions': <bids.layout.models.Entity at 0x10ecd4c50>,\n",
       " 'TaskDescription': <bids.layout.models.Entity at 0x10ecd4a20>,\n",
       " 'CogAtlasID': <bids.layout.models.Entity at 0x10ecd4c18>,\n",
       " 'CogPOID': <bids.layout.models.Entity at 0x10ecd48d0>,\n",
       " 'EPIFactor': <bids.layout.models.Entity at 0x10ecd47f0>,\n",
       " 'EffectiveEchoSpacing': <bids.layout.models.Entity at 0x10ecd4588>,\n",
       " 'SliceTiming': <bids.layout.models.Entity at 0x10ecd4518>,\n",
       " 'TaskParameters': <bids.layout.models.Entity at 0x10ecd4320>}"
      ]
     },
     "execution_count": 5,
     "metadata": {},
     "output_type": "execute_result"
    }
   ],
   "source": [
    "layout.entities"
   ]
  },
  {
   "cell_type": "markdown",
   "metadata": {},
   "source": [
    "For example, if we only want the file paths of all of our resting state fMRI scans,"
   ]
  },
  {
   "cell_type": "code",
   "execution_count": 6,
   "metadata": {},
   "outputs": [
    {
     "name": "stderr",
     "output_type": "stream",
     "text": [
      "/Users/Michael/.pyenv/versions/fmri_venv/lib/python3.7/site-packages/bids/layout/layout.py:659: UserWarning: In pybids 0.9.0, the 'extensions' filter was deprecated in favor of 'extension'. The former will stop working in 0.11.0.\n",
      "  warnings.warn(\"In pybids 0.9.0, the 'extensions' filter was \"\n"
     ]
    },
    {
     "data": {
      "text/plain": [
       "['/Users/Michael/projects/teaching/fmriprep_workshop/data/ds000030/sub-10159/func/sub-10159_task-rest_bold.nii.gz']"
      ]
     },
     "execution_count": 6,
     "metadata": {},
     "output_type": "execute_result"
    }
   ],
   "source": [
    "layout.get(datatype='func', suffix='bold', task='rest', extensions=['.nii.gz'], return_type='file')"
   ]
  },
  {
   "cell_type": "markdown",
   "metadata": {},
   "source": [
    "**EXERCISE**: Retrieve the file paths of any scan where the `RepetitionTime` is 2 seconds."
   ]
  },
  {
   "cell_type": "code",
   "execution_count": 8,
   "metadata": {},
   "outputs": [
    {
     "data": {
      "text/plain": [
       "['/Users/Michael/projects/teaching/fmriprep_workshop/data/ds000030/sub-10159/func/sub-10159_task-bart_bold.nii.gz',\n",
       " '/Users/Michael/projects/teaching/fmriprep_workshop/data/ds000030/sub-10159/func/sub-10159_task-rest_bold.nii.gz',\n",
       " '/Users/Michael/projects/teaching/fmriprep_workshop/data/ds000030/sub-10159/func/sub-10159_task-scap_bold.nii.gz',\n",
       " '/Users/Michael/projects/teaching/fmriprep_workshop/data/ds000030/sub-10159/func/sub-10159_task-stopsignal_bold.nii.gz',\n",
       " '/Users/Michael/projects/teaching/fmriprep_workshop/data/ds000030/sub-10159/func/sub-10159_task-taskswitch_bold.nii.gz']"
      ]
     },
     "execution_count": 8,
     "metadata": {},
     "output_type": "execute_result"
    }
   ],
   "source": [
    "layout.get(RepetitionTime=2, return_type='file')"
   ]
  },
  {
   "cell_type": "markdown",
   "metadata": {},
   "source": [
    "Let's save the first file from our list of file paths to a variable and pull the metadata from its associated JSON file using the `get_metadata()` function."
   ]
  },
  {
   "cell_type": "code",
   "execution_count": 9,
   "metadata": {},
   "outputs": [
    {
     "data": {
      "text/plain": [
       "{'AccelNumReferenceLines': 24,\n",
       " 'AccelerationFactorPE': 2,\n",
       " 'AcquisitionMatrix': '64/0/0/64',\n",
       " 'CogAtlasID': 'trm_4d559bcd67c18',\n",
       " 'CogPOID': '',\n",
       " 'DeviceSerialNumber': '35343',\n",
       " 'EPIFactor': 128,\n",
       " 'EchoTime': 0.03,\n",
       " 'EchoTrainLength': 1,\n",
       " 'EffectiveEchoSpacing': 0.000395,\n",
       " 'FlipAngle': 90,\n",
       " 'ImageType': 'ORIGINAL/PRIMARY/M/ND/MOSAIC',\n",
       " 'ImagingFrequency': 123249925,\n",
       " 'InPlanePhaseEncodingDirection': 'COL',\n",
       " 'Instructions': 'This task is the one where you score points by inflating balloons. You push the first button to inflate the balloon, and the second button to stop inflating and move on to the next one. The more you inflate the balloon the more points you’ll get, but if you inflate it too much the balloon will pop and you won’t get any points. There are two different colors of balloons, green and white. Green balloons give points, but white balloons don’t, so when you see a white balloon you can just inflate it until it goes away to move on to the next one. You only get a limited number of balloons, so try to get as many points as you can on each. Any questions?',\n",
       " 'MRAcquisitionType': '2D',\n",
       " 'MagneticFieldStrength': 3,\n",
       " 'ManufacturerModelName': 'TrioTim',\n",
       " 'NumberOfAverages': 1,\n",
       " 'NumberOfPhaseEncodingSteps': 63,\n",
       " 'PatientPosition': 'HFS',\n",
       " 'PercentPhaseFieldOfView': 100,\n",
       " 'PercentSampling': 100,\n",
       " 'PhaseEncodingDirection': 'j-',\n",
       " 'PixelBandwidth': 1420,\n",
       " 'ProtocolName': 'BOLD - BART',\n",
       " 'ReceiveCoilName': 'HeadMatrix',\n",
       " 'RepetitionTime': 2,\n",
       " 'ScanOptions': 'FS',\n",
       " 'ScanningSequence': 'EP',\n",
       " 'SequenceName': '*epfid2d1_64',\n",
       " 'SequenceVariant': 'SK',\n",
       " 'SliceTiming': [1.0025,\n",
       "  0,\n",
       "  1.0625,\n",
       "  0.06,\n",
       "  1.1225,\n",
       "  0.1175,\n",
       "  1.18,\n",
       "  0.1775,\n",
       "  1.24,\n",
       "  0.235,\n",
       "  1.3,\n",
       "  0.295,\n",
       "  1.3575,\n",
       "  0.355,\n",
       "  1.4175,\n",
       "  0.4125,\n",
       "  1.475,\n",
       "  0.4725,\n",
       "  1.535,\n",
       "  0.53,\n",
       "  1.595,\n",
       "  0.59,\n",
       "  1.6525,\n",
       "  0.65,\n",
       "  1.7125,\n",
       "  0.7075,\n",
       "  1.77,\n",
       "  0.7675,\n",
       "  1.83,\n",
       "  0.8275,\n",
       "  1.89,\n",
       "  0.885,\n",
       "  1.9475,\n",
       "  0.945],\n",
       " 'SoftwareVersions': 'syngo MR B15',\n",
       " 'TaskDescription': 'In the BART (Lejuez et al., 2002), participants were allowed to pump a series of green (experimental) and white (control) balloons (Figure 1B). On each trial, participants chose to pump the balloon or cash out and collect their accumulated earnings for that round. For experimental balloons, after a trial in which the participant successfully pumped the balloon (meaning it did not result in an explosion), an image of a larger balloon was presented, the participant earned 5 points, and was able to pump again or cash-out. After a trial in which the participant chose to cash out, the participant’s accumulated earnings for that round were displayed and the task moved onto the next round. On an explosion trial (necessarily following a Risky choice trial), an exploded balloon was presented, the participant received no points for that round, and the task moved onto the next round. In this version of the BART, balloons exploded randomly on a number drawn from a uniform distribution over numbers of pumps, with 12 maximum pumps possible before an explosion or end of a round. Thus, participants experienced the probability as non-stationary, as the likelihood of a loss event increased with each trial in a round and as no information was provided to subjects about the probability of explosion. Participants also responded to control balloons, which increased in size on successive trials, but which neither resulted in points nor exploded. For both balloons (green and white), the balloon would disappear from the screen once the participant responded, and each balloon trial was separated by a jittered delay. An outcome trial (following a Cash-out choice or a Loss event) was displayed for a fixed duration of 2 s. Each trial was separated by a blank screen that was presented for a variable duration (1-2 s, average 1.5 s); each round was separated by a blank screen that was presented for variable duration (1-12 s, average 4 s). The task performed in the scanner was self-paced, but the task was programmed such that participants saw approximately 30 virtual balloons, with an approximate run time of 9 minutes. Each successful pump was worth 5 points, but participants did not collect their earnings at the end of the scan. For the practice run, participants had one minute to complete 5 balloon rounds.',\n",
       " 'TaskFullName': 'Balloon Analog Risk Task (BART)',\n",
       " 'TaskName': 'bart',\n",
       " 'TaskParameters': {'ISI': 3,\n",
       "  'ITI': 2,\n",
       "  'mean_iti': 4,\n",
       "  'min_iti': 1,\n",
       "  'max_iti': 12,\n",
       "  'trigger_time': 10.309},\n",
       " 'TotalScanTimeSec': 542,\n",
       " 'TransmitCoilName': 'Body',\n",
       " 'VariableFlipAngleFlag': 'N'}"
      ]
     },
     "execution_count": 9,
     "metadata": {},
     "output_type": "execute_result"
    }
   ],
   "source": [
    "fmri_file = layout.get(RepetitionTime=2, return_type='file')[0]\n",
    "layout.get_metadata(fmri_file)"
   ]
  },
  {
   "cell_type": "markdown",
   "metadata": {},
   "source": [
    "We can even collect the metadata for all of our fmri scans into a list and convert this into a dataframe."
   ]
  },
  {
   "cell_type": "code",
   "execution_count": 11,
   "metadata": {},
   "outputs": [
    {
     "name": "stderr",
     "output_type": "stream",
     "text": [
      "/Users/Michael/.pyenv/versions/fmri_venv/lib/python3.7/site-packages/bids/layout/layout.py:659: UserWarning: In pybids 0.9.0, the 'extensions' filter was deprecated in favor of 'extension'. The former will stop working in 0.11.0.\n",
      "  warnings.warn(\"In pybids 0.9.0, the 'extensions' filter was \"\n"
     ]
    },
    {
     "data": {
      "text/html": [
       "<div>\n",
       "<style scoped>\n",
       "    .dataframe tbody tr th:only-of-type {\n",
       "        vertical-align: middle;\n",
       "    }\n",
       "\n",
       "    .dataframe tbody tr th {\n",
       "        vertical-align: top;\n",
       "    }\n",
       "\n",
       "    .dataframe thead th {\n",
       "        text-align: right;\n",
       "    }\n",
       "</style>\n",
       "<table border=\"1\" class=\"dataframe\">\n",
       "  <thead>\n",
       "    <tr style=\"text-align: right;\">\n",
       "      <th></th>\n",
       "      <th>AccelNumReferenceLines</th>\n",
       "      <th>AccelerationFactorPE</th>\n",
       "      <th>AcquisitionMatrix</th>\n",
       "      <th>CogAtlasID</th>\n",
       "      <th>CogPOID</th>\n",
       "      <th>DeviceSerialNumber</th>\n",
       "      <th>EPIFactor</th>\n",
       "      <th>EchoTime</th>\n",
       "      <th>EchoTrainLength</th>\n",
       "      <th>EffectiveEchoSpacing</th>\n",
       "      <th>...</th>\n",
       "      <th>SequenceVariant</th>\n",
       "      <th>SliceTiming</th>\n",
       "      <th>SoftwareVersions</th>\n",
       "      <th>TaskDescription</th>\n",
       "      <th>TaskFullName</th>\n",
       "      <th>TaskName</th>\n",
       "      <th>TaskParameters</th>\n",
       "      <th>TotalScanTimeSec</th>\n",
       "      <th>TransmitCoilName</th>\n",
       "      <th>VariableFlipAngleFlag</th>\n",
       "    </tr>\n",
       "  </thead>\n",
       "  <tbody>\n",
       "    <tr>\n",
       "      <th>0</th>\n",
       "      <td>24</td>\n",
       "      <td>2</td>\n",
       "      <td>64/0/0/64</td>\n",
       "      <td>trm_4d559bcd67c18</td>\n",
       "      <td></td>\n",
       "      <td>35343</td>\n",
       "      <td>128</td>\n",
       "      <td>0.03</td>\n",
       "      <td>1</td>\n",
       "      <td>0.000395</td>\n",
       "      <td>...</td>\n",
       "      <td>SK</td>\n",
       "      <td>[1.0025, 0, 1.0625, 0.06, 1.1225, 0.1175, 1.18...</td>\n",
       "      <td>syngo MR B15</td>\n",
       "      <td>In the BART (Lejuez et al., 2002), participant...</td>\n",
       "      <td>Balloon Analog Risk Task (BART)</td>\n",
       "      <td>bart</td>\n",
       "      <td>{'ISI': 3, 'ITI': 2, 'mean_iti': 4, 'min_iti':...</td>\n",
       "      <td>542</td>\n",
       "      <td>Body</td>\n",
       "      <td>N</td>\n",
       "    </tr>\n",
       "    <tr>\n",
       "      <th>1</th>\n",
       "      <td>24</td>\n",
       "      <td>2</td>\n",
       "      <td>64/0/0/64</td>\n",
       "      <td>trm_4c8a834779883</td>\n",
       "      <td>COGPO_00086</td>\n",
       "      <td>35343</td>\n",
       "      <td>128</td>\n",
       "      <td>0.03</td>\n",
       "      <td>1</td>\n",
       "      <td>0.000395</td>\n",
       "      <td>...</td>\n",
       "      <td>SK</td>\n",
       "      <td>[1.005, 0, 1.0625, 0.06, 1.1225, 0.12, 1.1825,...</td>\n",
       "      <td>syngo MR B15</td>\n",
       "      <td>In the Resting scan, participants were asked t...</td>\n",
       "      <td>Resting State</td>\n",
       "      <td>rest</td>\n",
       "      <td>NaN</td>\n",
       "      <td>312</td>\n",
       "      <td>Body</td>\n",
       "      <td>N</td>\n",
       "    </tr>\n",
       "    <tr>\n",
       "      <th>2</th>\n",
       "      <td>24</td>\n",
       "      <td>2</td>\n",
       "      <td>64/0/0/64</td>\n",
       "      <td>trm_4f2453b806fe1</td>\n",
       "      <td></td>\n",
       "      <td>35343</td>\n",
       "      <td>128</td>\n",
       "      <td>0.03</td>\n",
       "      <td>1</td>\n",
       "      <td>0.000395</td>\n",
       "      <td>...</td>\n",
       "      <td>SK</td>\n",
       "      <td>[1.005, 0, 1.0625, 0.06, 1.1225, 0.1175, 1.18,...</td>\n",
       "      <td>syngo MR B15</td>\n",
       "      <td>SCAP is a working memory task that tests the m...</td>\n",
       "      <td>Spatial Working Memory Capacity Tasks (SCAP)</td>\n",
       "      <td>scap</td>\n",
       "      <td>{'trigger_time': None}</td>\n",
       "      <td>590</td>\n",
       "      <td>Body</td>\n",
       "      <td>N</td>\n",
       "    </tr>\n",
       "    <tr>\n",
       "      <th>3</th>\n",
       "      <td>24</td>\n",
       "      <td>2</td>\n",
       "      <td>64/0/0/64</td>\n",
       "      <td>tsk_4a57abb949e1a</td>\n",
       "      <td></td>\n",
       "      <td>35343</td>\n",
       "      <td>128</td>\n",
       "      <td>0.03</td>\n",
       "      <td>1</td>\n",
       "      <td>0.000395</td>\n",
       "      <td>...</td>\n",
       "      <td>SK</td>\n",
       "      <td>[1.0025, 0, 1.0625, 0.0575, 1.12, 0.1175, 1.18...</td>\n",
       "      <td>syngo MR B15</td>\n",
       "      <td>The Stop-Signal Task measures response inhibit...</td>\n",
       "      <td>Stop-Signal Task</td>\n",
       "      <td>stopsignal</td>\n",
       "      <td>{'Settings': {'BSI': 1, 'ISI': 1.5, 'Ladder1 s...</td>\n",
       "      <td>376</td>\n",
       "      <td>Body</td>\n",
       "      <td>N</td>\n",
       "    </tr>\n",
       "    <tr>\n",
       "      <th>4</th>\n",
       "      <td>24</td>\n",
       "      <td>2</td>\n",
       "      <td>64/0/0/64</td>\n",
       "      <td>tsk_4a57abb949e8a</td>\n",
       "      <td>COGPO_00107</td>\n",
       "      <td>35343</td>\n",
       "      <td>128</td>\n",
       "      <td>0.03</td>\n",
       "      <td>1</td>\n",
       "      <td>0.000395</td>\n",
       "      <td>...</td>\n",
       "      <td>SK</td>\n",
       "      <td>[1.0025, 0, 1.0625, 0.0575, 1.12, 0.1175, 1.18...</td>\n",
       "      <td>syngo MR B15</td>\n",
       "      <td>In the Task-Switching (TS) task, participants ...</td>\n",
       "      <td>Task Switching</td>\n",
       "      <td>taskswitch</td>\n",
       "      <td>{'button_set': 2, 'left_color': 'red', 'right_...</td>\n",
       "      <td>424</td>\n",
       "      <td>Body</td>\n",
       "      <td>N</td>\n",
       "    </tr>\n",
       "  </tbody>\n",
       "</table>\n",
       "<p>5 rows × 41 columns</p>\n",
       "</div>"
      ],
      "text/plain": [
       "   AccelNumReferenceLines  AccelerationFactorPE AcquisitionMatrix  \\\n",
       "0                      24                     2         64/0/0/64   \n",
       "1                      24                     2         64/0/0/64   \n",
       "2                      24                     2         64/0/0/64   \n",
       "3                      24                     2         64/0/0/64   \n",
       "4                      24                     2         64/0/0/64   \n",
       "\n",
       "          CogAtlasID      CogPOID DeviceSerialNumber  EPIFactor  EchoTime  \\\n",
       "0  trm_4d559bcd67c18                           35343        128      0.03   \n",
       "1  trm_4c8a834779883  COGPO_00086              35343        128      0.03   \n",
       "2  trm_4f2453b806fe1                           35343        128      0.03   \n",
       "3  tsk_4a57abb949e1a                           35343        128      0.03   \n",
       "4  tsk_4a57abb949e8a  COGPO_00107              35343        128      0.03   \n",
       "\n",
       "   EchoTrainLength  EffectiveEchoSpacing  ...  SequenceVariant  \\\n",
       "0                1              0.000395  ...               SK   \n",
       "1                1              0.000395  ...               SK   \n",
       "2                1              0.000395  ...               SK   \n",
       "3                1              0.000395  ...               SK   \n",
       "4                1              0.000395  ...               SK   \n",
       "\n",
       "                                         SliceTiming  SoftwareVersions  \\\n",
       "0  [1.0025, 0, 1.0625, 0.06, 1.1225, 0.1175, 1.18...      syngo MR B15   \n",
       "1  [1.005, 0, 1.0625, 0.06, 1.1225, 0.12, 1.1825,...      syngo MR B15   \n",
       "2  [1.005, 0, 1.0625, 0.06, 1.1225, 0.1175, 1.18,...      syngo MR B15   \n",
       "3  [1.0025, 0, 1.0625, 0.0575, 1.12, 0.1175, 1.18...      syngo MR B15   \n",
       "4  [1.0025, 0, 1.0625, 0.0575, 1.12, 0.1175, 1.18...      syngo MR B15   \n",
       "\n",
       "                                     TaskDescription  \\\n",
       "0  In the BART (Lejuez et al., 2002), participant...   \n",
       "1  In the Resting scan, participants were asked t...   \n",
       "2  SCAP is a working memory task that tests the m...   \n",
       "3  The Stop-Signal Task measures response inhibit...   \n",
       "4  In the Task-Switching (TS) task, participants ...   \n",
       "\n",
       "                                   TaskFullName    TaskName  \\\n",
       "0               Balloon Analog Risk Task (BART)        bart   \n",
       "1                                 Resting State        rest   \n",
       "2  Spatial Working Memory Capacity Tasks (SCAP)        scap   \n",
       "3                              Stop-Signal Task  stopsignal   \n",
       "4                                Task Switching  taskswitch   \n",
       "\n",
       "                                      TaskParameters TotalScanTimeSec  \\\n",
       "0  {'ISI': 3, 'ITI': 2, 'mean_iti': 4, 'min_iti':...              542   \n",
       "1                                                NaN              312   \n",
       "2                             {'trigger_time': None}              590   \n",
       "3  {'Settings': {'BSI': 1, 'ISI': 1.5, 'Ladder1 s...              376   \n",
       "4  {'button_set': 2, 'left_color': 'red', 'right_...              424   \n",
       "\n",
       "   TransmitCoilName  VariableFlipAngleFlag  \n",
       "0              Body                      N  \n",
       "1              Body                      N  \n",
       "2              Body                      N  \n",
       "3              Body                      N  \n",
       "4              Body                      N  \n",
       "\n",
       "[5 rows x 41 columns]"
      ]
     },
     "execution_count": 11,
     "metadata": {},
     "output_type": "execute_result"
    }
   ],
   "source": [
    "import pandas as pd\n",
    "\n",
    "metadata_list = []\n",
    "all_fmri_files = layout.get(datatype='func', suffix='bold', return_type='file', extensions='.nii.gz')\n",
    "for fmri_file in all_fmri_files:\n",
    "    fmri_metadata = layout.get_metadata(fmri_file)\n",
    "    metadata_list.append(fmri_metadata)\n",
    "df = pd.DataFrame.from_records(metadata_list)\n",
    "df"
   ]
  },
  {
   "cell_type": "code",
   "execution_count": null,
   "metadata": {},
   "outputs": [],
   "source": []
  }
 ],
 "metadata": {
  "kernelspec": {
   "display_name": "fmri_venv",
   "language": "python",
   "name": "fmri_venv"
  },
  "language_info": {
   "codemirror_mode": {
    "name": "ipython",
    "version": 3
   },
   "file_extension": ".py",
   "mimetype": "text/x-python",
   "name": "python",
   "nbconvert_exporter": "python",
   "pygments_lexer": "ipython3",
   "version": "3.7.1"
  }
 },
 "nbformat": 4,
 "nbformat_minor": 4
}
